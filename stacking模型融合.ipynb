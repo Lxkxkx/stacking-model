{
 "cells": [
  {
   "cell_type": "markdown",
   "metadata": {
    "executionInfo": {
     "elapsed": 308,
     "status": "ok",
     "timestamp": 1647840443211,
     "user": {
      "displayName": "李杰",
      "photoUrl": "https://lh3.googleusercontent.com/a/default-user=s64",
      "userId": "06405676610527237080"
     },
     "user_tz": -480
    },
    "id": "JyWhX0Df8T3v"
   },
   "source": [
    "初级训练器lgb最优参数"
   ]
  },
  {
   "cell_type": "code",
   "execution_count": null,
   "metadata": {},
   "outputs": [],
   "source": [
    "params_lgb = {\n",
    "    'learning_rate':0.1,\n",
    "    'max_bin':150,\n",
    "    'num_leaves':32,    \n",
    "    'max_depth':11,\n",
    "    \n",
    "    'reg_alpha':0.1,\n",
    "    'reg_lambda':0.2,   \n",
    "     \n",
    "    'objective':'multiclass',\n",
    "    'n_estimators':300,\n",
    "    #'class_weight':weight\n",
    "}"
   ]
  },
  {
   "cell_type": "markdown",
   "metadata": {},
   "source": [
    "初级训练器catbost最优参数"
   ]
  },
  {
   "cell_type": "code",
   "execution_count": 2,
   "metadata": {},
   "outputs": [],
   "source": [
    "params_cat = {\n",
    "         'n_estimators': 30000,\n",
    "         'loss_function': 'MAE',\n",
    "         'eval_metric':'MAE',\n",
    "         'learning_rate': 0.015,\n",
    "         'depth': 5,\n",
    "         'use_best_model': True,\n",
    "         'bootstrap_type': 'Bernoulli',\n",
    "         'reg_lambda': 3\n",
    "    #'class_weight':weight\n",
    "}"
   ]
  },
  {
   "cell_type": "markdown",
   "metadata": {},
   "source": [
    "初级训练器xgb最有参数"
   ]
  },
  {
   "cell_type": "code",
   "execution_count": 3,
   "metadata": {},
   "outputs": [],
   "source": [
    "params_xgb={\n",
    "        'eta':0.2,                        #特征权重，取值范围0~1，通常最后设置eta为0.01~0.2\n",
    "        'max_depth':7,                #树的深度，通常取值3-10，过大容易过拟合，过小欠拟合\n",
    "        'min_child_weight':3,             #最小样本的权重，调大参数可以繁殖过拟合\n",
    "        'gamma':0.2,                      #控制是否后剪枝，越大越保守，一般0.1、 0.2的样子\n",
    "        'subsample':0.8,                  #随机取样比例\n",
    "        'colsample_bytree':0.8 ,          #默认为1，取值0~1，对特征随机采集比例\n",
    "        'reg_lambda':0.2,\n",
    "        'reg_alpha':0.4,\n",
    "        'learning_rate':0.01,\n",
    "        'n_estimators':1200,\n",
    "        'booster':'gbtree',               #迭代树\n",
    "        'objective':'multiclass',    #逻辑回归，输出为概率\n",
    "        'nthread':6,                      #设置最大的进程量，若不设置则会使用全部资源\n",
    "        'scale_pos_weight':1,             #默认为0,1可以处理类别不平衡\n",
    "        'lambda':1,                       #默认为1，用于L2平滑处理项，避免模型过拟合\n",
    "        'seed':1234,                      #随机树种子\n",
    "        'silent':1,                       #0表示输出结果\n",
    "        'eval_metric':'auc'    #评分指标\n",
    "\n",
    "    }"
   ]
  },
  {
   "cell_type": "markdown",
   "metadata": {},
   "source": [
    "次级训练器xgboost最优参数"
   ]
  },
  {
   "cell_type": "code",
   "execution_count": 6,
   "metadata": {},
   "outputs": [],
   "source": [
    "param_xgb_second = {\n",
    "        'learning_rate':0.1,\n",
    "        'max_depth':3,\n",
    "        'num_leaves':32,    \n",
    "        'min_child_weight':3,             \n",
    "        'gamma':0.2,                    \n",
    "        'subsample':0.8,                 \n",
    "        'colsample_bytree':0.8 ,          \n",
    "        'reg_lambda':0.2,\n",
    "        'reg_alpha':0.4,\n",
    "}"
   ]
  },
  {
   "cell_type": "markdown",
   "metadata": {},
   "source": [
    "导入包"
   ]
  },
  {
   "cell_type": "code",
   "execution_count": 159,
   "metadata": {
    "executionInfo": {
     "elapsed": 464,
     "status": "ok",
     "timestamp": 1647850981068,
     "user": {
      "displayName": "李杰",
      "photoUrl": "https://lh3.googleusercontent.com/a/default-user=s64",
      "userId": "06405676610527237080"
     },
     "user_tz": -480
    },
    "id": "xU9YSzLDT6-A"
   },
   "outputs": [],
   "source": [
    "from xgboost.sklearn import XGBClassifier\n",
    "from catboost import CatBoostClassifier\n",
    "import lightgbm as lgb\n",
    "from sklearn.model_selection import KFold\n",
    "from sklearn.base import BaseEstimator, ClassifierMixin, TransformerMixin, clone\n",
    "import numpy as np\n",
    "from sklearn import  metrics \n",
    "from sklearn.metrics import accuracy_score\n",
    "from sklearn.model_selection import train_test_split"
   ]
  },
  {
   "cell_type": "markdown",
   "metadata": {},
   "source": [
    "加载数据"
   ]
  },
  {
   "cell_type": "code",
   "execution_count": null,
   "metadata": {},
   "outputs": [],
   "source": [
    "Data = np.load('data.npy')\n",
    "x, y = Data[0], Data[1]\n",
    "x_train, x_test, y_train, y_test = train_test_split(X, y, test_size=0.4)  "
   ]
  },
  {
   "cell_type": "markdown",
   "metadata": {},
   "source": [
    "stacking 类"
   ]
  },
  {
   "cell_type": "code",
   "execution_count": 150,
   "metadata": {
    "executionInfo": {
     "elapsed": 329,
     "status": "ok",
     "timestamp": 1647850810827,
     "user": {
      "displayName": "李杰",
      "photoUrl": "https://lh3.googleusercontent.com/a/default-user=s64",
      "userId": "06405676610527237080"
     },
     "user_tz": -480
    },
    "id": "5rqsUCJ3AR7c"
   },
   "outputs": [],
   "source": [
    "class StackingAveragedModels1(BaseEstimator, ClassifierMixin, TransformerMixin):\n",
    "    def __init__(self, base_models, meta_model, n_folds=5):\n",
    "        self.base_models = base_models\n",
    "        self.meta_model = meta_model\n",
    "        self.n_folds = n_folds\n",
    "\n",
    "    # 我们将原来的模型clone出来，并且进行实现fit功能\n",
    "    def fit(self, X, y, label):\n",
    "        self.base_models_ = [list() for x in self.base_models]\n",
    "        self.meta_model_ = clone(self.meta_model)\n",
    "        kfold = KFold(n_splits=self.n_folds, shuffle=True, random_state=156)\n",
    "\n",
    "        #对于每个模型，使用交叉验证的方法来训练初级学习器，并且得到次级训练集\n",
    "        out_of_fold_predictions = np.zeros((X.shape[0], len(self.base_models)*3))\n",
    "        for i, model in enumerate(self.base_models):\n",
    "            for train_index, holdout_index in kfold.split(X, y):\n",
    "                instance = clone(model)\n",
    "                instance.fit(X[train_index], y[train_index])\n",
    "                self.base_models_[i].append(instance)\n",
    "                y_pred = instance.predict_proba(X[holdout_index])\n",
    "                print(y_pred.shape)\n",
    "                out_of_fold_predictions[holdout_index, i*label:(i+1)*label] = y_pred\n",
    "               \n",
    "             \n",
    "        # 使用次级训练集来训练次级学习\n",
    "        print(len(out_of_fold_predictions[0]))\n",
    "        self.meta_model_.fit(out_of_fold_predictions, y)\n",
    "        return self\n",
    "\n",
    "    #在上面的fit方法当中，我们已经将我们训练出来的初级学习器和次级学习器保存下来了\n",
    "    #predict的时候只需要用这些学习器构造我们的次级预测数据集并且进行预测就可以了\n",
    "    def predict(self, X):\n",
    "        \n",
    "        meta_features = np.column_stack(np.dstack(model.predict_proba(X) for model in base_models).mean(axis=-1) for base_models in self.base_models_ )\n",
    "        return self.meta_model_.predict(meta_features)\n",
    "\n",
    "        # meta_features = np.column_stack([\n",
    "        #     np.column_dtack([model.predict_proba(X) for model in base_models]).mean(axis=2)\n",
    "        #     for base_models in self.base_models_ ])\n",
    "        # return self.meta_model_.predict(meta_features)"
   ]
  },
  {
   "cell_type": "markdown",
   "metadata": {},
   "source": [
    "加载模型"
   ]
  },
  {
   "cell_type": "code",
   "execution_count": 151,
   "metadata": {
    "executionInfo": {
     "elapsed": 466,
     "status": "ok",
     "timestamp": 1647850814547,
     "user": {
      "displayName": "李杰",
      "photoUrl": "https://lh3.googleusercontent.com/a/default-user=s64",
      "userId": "06405676610527237080"
     },
     "user_tz": -480
    },
    "id": "EHDlkQFaDA7v"
   },
   "outputs": [],
   "source": [
    "xgb = XGBClassifier(**params_xgb)\n",
    "cat = CatBoostClassifier(**params_cat)\n",
    "lgb = lgb.LGBMClassifier(**params_lgb)\n",
    "xgb_second =CatBoostClassifier(**params_xgb_second)\n",
    "base_models = [xgb, cat, lgb]\n",
    "meta_model = xgb_second\n",
    "model = StackingAveragedModels1(base_models, meta_model)"
   ]
  },
  {
   "cell_type": "markdown",
   "metadata": {
    "executionInfo": {
     "elapsed": 2,
     "status": "ok",
     "timestamp": 1647850927323,
     "user": {
      "displayName": "李杰",
      "photoUrl": "https://lh3.googleusercontent.com/a/default-user=s64",
      "userId": "06405676610527237080"
     },
     "user_tz": -480
    },
    "id": "2uNU_scrDlBR"
   },
   "source": [
    "训练模型\n"
   ]
  },
  {
   "cell_type": "code",
   "execution_count": 156,
   "metadata": {
    "colab": {
     "base_uri": "https://localhost:8080/"
    },
    "executionInfo": {
     "elapsed": 1987,
     "status": "ok",
     "timestamp": 1647850926660,
     "user": {
      "displayName": "李杰",
      "photoUrl": "https://lh3.googleusercontent.com/a/default-user=s64",
      "userId": "06405676610527237080"
     },
     "user_tz": -480
    },
    "id": "lUQ8UzZUVCpe",
    "outputId": "aa47965a-b81e-4b0d-c12b-d088d029ebfc"
   },
   "outputs": [
    {
     "name": "stdout",
     "output_type": "stream",
     "text": [
      "(18, 3)\n",
      "(18, 3)\n",
      "(18, 3)\n",
      "(18, 3)\n",
      "(18, 3)\n",
      "(18, 3)\n",
      "(18, 3)\n",
      "(18, 3)\n",
      "(18, 3)\n",
      "(18, 3)\n",
      "(18, 3)\n",
      "(18, 3)\n",
      "(18, 3)\n",
      "(18, 3)\n",
      "(18, 3)\n",
      "9\n",
      "Accuracy: 0.9\n"
     ]
    },
    {
     "name": "stderr",
     "output_type": "stream",
     "text": [
      "/usr/local/lib/python3.7/dist-packages/ipykernel_launcher.py:40: FutureWarning: arrays to stack must be passed as a \"sequence\" type such as list or tuple. Support for non-sequence iterables such as generators is deprecated as of NumPy 1.16 and will raise an error in the future.\n"
     ]
    }
   ],
   "source": [
    "model.fit(x_train, y_train, 3)\n",
    "preds_class = mon.predict(x_test)[:,0]\n",
    "accuracy = accuracy_score(y_test, preds_class)\n",
    "print (\"Accuracy:\", accuracy)"
   ]
  }
 ],
 "metadata": {
  "accelerator": "GPU",
  "colab": {
   "authorship_tag": "ABX9TyM+9NgRtGpzur4WW4rEXujF",
   "name": "Untitled3.ipynb",
   "provenance": []
  },
  "kernelspec": {
   "display_name": "Python 3",
   "language": "python",
   "name": "python3"
  },
  "language_info": {
   "codemirror_mode": {
    "name": "ipython",
    "version": 3
   },
   "file_extension": ".py",
   "mimetype": "text/x-python",
   "name": "python",
   "nbconvert_exporter": "python",
   "pygments_lexer": "ipython3",
   "version": "3.8.5"
  }
 },
 "nbformat": 4,
 "nbformat_minor": 1
}
